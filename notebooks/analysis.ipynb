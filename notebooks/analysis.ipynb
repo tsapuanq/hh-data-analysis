{
 "cells": [
  {
   "cell_type": "code",
   "execution_count": 1,
   "metadata": {},
   "outputs": [],
   "source": [
    "import pandas as pd\n"
   ]
  },
  {
   "cell_type": "code",
   "execution_count": 6,
   "metadata": {},
   "outputs": [
    {
     "data": {
      "text/html": [
       "<div>\n",
       "<style scoped>\n",
       "    .dataframe tbody tr th:only-of-type {\n",
       "        vertical-align: middle;\n",
       "    }\n",
       "\n",
       "    .dataframe tbody tr th {\n",
       "        vertical-align: top;\n",
       "    }\n",
       "\n",
       "    .dataframe thead th {\n",
       "        text-align: right;\n",
       "    }\n",
       "</style>\n",
       "<table border=\"1\" class=\"dataframe\">\n",
       "  <thead>\n",
       "    <tr style=\"text-align: right;\">\n",
       "      <th></th>\n",
       "      <th>title</th>\n",
       "      <th>company</th>\n",
       "      <th>location</th>\n",
       "      <th>salary</th>\n",
       "      <th>description</th>\n",
       "      <th>link</th>\n",
       "    </tr>\n",
       "  </thead>\n",
       "  <tbody>\n",
       "    <tr>\n",
       "      <th>0</th>\n",
       "      <td>Junior HFT Quant Trader / Data Scientist Orion...</td>\n",
       "      <td>ООО НОВОТЕХ</td>\n",
       "      <td>Москва, Сокольническая линия, метро Кропоткинская</td>\n",
       "      <td>Не указано</td>\n",
       "      <td>Tasks:\\nOur team develops quantitative strateg...</td>\n",
       "      <td>https://almaty.hh.kz/vacancy/119335326?query=D...</td>\n",
       "    </tr>\n",
       "    <tr>\n",
       "      <th>1</th>\n",
       "      <td>Junior Data Scientist/Data Scientist</td>\n",
       "      <td>Nazarbayev University</td>\n",
       "      <td>Не указано</td>\n",
       "      <td>Не указано</td>\n",
       "      <td>Company Description\\n\\nInstitute of Smart Syst...</td>\n",
       "      <td>https://almaty.hh.kz/vacancy/119265661?query=D...</td>\n",
       "    </tr>\n",
       "    <tr>\n",
       "      <th>2</th>\n",
       "      <td>Junior ML Engineer / Data scientist (Младший с...</td>\n",
       "      <td>Инфосистемы Джет</td>\n",
       "      <td>Москва, Савёловская, Большая Новодмитровская, ...</td>\n",
       "      <td>Не указано</td>\n",
       "      <td>\"Инфосистемы Джет\" — инновационная ИТ-компания...</td>\n",
       "      <td>https://almaty.hh.kz/vacancy/119382231?query=D...</td>\n",
       "    </tr>\n",
       "    <tr>\n",
       "      <th>3</th>\n",
       "      <td>Data Scientist</td>\n",
       "      <td>ЕВРОПЕЙСКИЙ МЕДИЦИНСКИЙ ЦЕНТР</td>\n",
       "      <td>Москва, Проспект Мира, Проспект Мира, Сухаревс...</td>\n",
       "      <td>Не указано</td>\n",
       "      <td>Сейчас мы находимся в поисках коллеги на позиц...</td>\n",
       "      <td>https://almaty.hh.kz/vacancy/119271400?query=D...</td>\n",
       "    </tr>\n",
       "    <tr>\n",
       "      <th>4</th>\n",
       "      <td>Data Scientist (Junior)</td>\n",
       "      <td>Агентство страховых технологий</td>\n",
       "      <td>Не указано</td>\n",
       "      <td>Не указано</td>\n",
       "      <td>Ищем начинающего Data Scientist’а в аккредитов...</td>\n",
       "      <td>https://almaty.hh.kz/vacancy/118785636?query=D...</td>\n",
       "    </tr>\n",
       "  </tbody>\n",
       "</table>\n",
       "</div>"
      ],
      "text/plain": [
       "                                               title  \\\n",
       "0  Junior HFT Quant Trader / Data Scientist Orion...   \n",
       "1               Junior Data Scientist/Data Scientist   \n",
       "2  Junior ML Engineer / Data scientist (Младший с...   \n",
       "3                                     Data Scientist   \n",
       "4                            Data Scientist (Junior)   \n",
       "\n",
       "                          company  \\\n",
       "0                     ООО НОВОТЕХ   \n",
       "1           Nazarbayev University   \n",
       "2                Инфосистемы Джет   \n",
       "3   ЕВРОПЕЙСКИЙ МЕДИЦИНСКИЙ ЦЕНТР   \n",
       "4  Агентство страховых технологий   \n",
       "\n",
       "                                            location      salary  \\\n",
       "0  Москва, Сокольническая линия, метро Кропоткинская  Не указано   \n",
       "1                                         Не указано  Не указано   \n",
       "2  Москва, Савёловская, Большая Новодмитровская, ...  Не указано   \n",
       "3  Москва, Проспект Мира, Проспект Мира, Сухаревс...  Не указано   \n",
       "4                                         Не указано  Не указано   \n",
       "\n",
       "                                         description  \\\n",
       "0  Tasks:\\nOur team develops quantitative strateg...   \n",
       "1  Company Description\\n\\nInstitute of Smart Syst...   \n",
       "2  \"Инфосистемы Джет\" — инновационная ИТ-компания...   \n",
       "3  Сейчас мы находимся в поисках коллеги на позиц...   \n",
       "4  Ищем начинающего Data Scientist’а в аккредитов...   \n",
       "\n",
       "                                                link  \n",
       "0  https://almaty.hh.kz/vacancy/119335326?query=D...  \n",
       "1  https://almaty.hh.kz/vacancy/119265661?query=D...  \n",
       "2  https://almaty.hh.kz/vacancy/119382231?query=D...  \n",
       "3  https://almaty.hh.kz/vacancy/119271400?query=D...  \n",
       "4  https://almaty.hh.kz/vacancy/118785636?query=D...  "
      ]
     },
     "execution_count": 6,
     "metadata": {},
     "output_type": "execute_result"
    }
   ],
   "source": [
    "df = pd.read_csv(r\"C:\\Users\\User\\hh_data_project\\data\\raw\\vacancies.csv\")\n",
    "df.head()"
   ]
  },
  {
   "cell_type": "code",
   "execution_count": 22,
   "metadata": {},
   "outputs": [
    {
     "data": {
      "text/plain": [
       "title\n",
       "data scientist                                                                                     16\n",
       "специалист по валидации моделей (junior data scientist) управления модельных рисков и валидации     2\n",
       "аналитик данных                                                                                     2\n",
       "middle data scientist                                                                               2\n",
       "junior data scientist                                                                               2\n",
       "                                                                                                   ..\n",
       "data scientist (стажер), владивосток                                                                1\n",
       "data scientist/разработчик машинного обучения (ml, nlp, llm) middle                                 1\n",
       "middle data scientist (кредитно-платежные продукты)                                                 1\n",
       "middle data scientist (лидогенерация)                                                               1\n",
       "tl data scientist                                                                                   1\n",
       "Name: count, Length: 81, dtype: int64"
      ]
     },
     "execution_count": 22,
     "metadata": {},
     "output_type": "execute_result"
    }
   ],
   "source": [
    "df['title'].str.lower().value_counts()"
   ]
  },
  {
   "cell_type": "code",
   "execution_count": null,
   "metadata": {},
   "outputs": [],
   "source": []
  }
 ],
 "metadata": {
  "kernelspec": {
   "display_name": "base",
   "language": "python",
   "name": "python3"
  },
  "language_info": {
   "codemirror_mode": {
    "name": "ipython",
    "version": 3
   },
   "file_extension": ".py",
   "mimetype": "text/x-python",
   "name": "python",
   "nbconvert_exporter": "python",
   "pygments_lexer": "ipython3",
   "version": "3.11.7"
  }
 },
 "nbformat": 4,
 "nbformat_minor": 2
}
