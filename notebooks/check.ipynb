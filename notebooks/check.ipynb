{
 "cells": [
  {
   "cell_type": "code",
   "execution_count": 1,
   "metadata": {},
   "outputs": [],
   "source": [
    "import pandas as pd"
   ]
  },
  {
   "cell_type": "code",
   "execution_count": 2,
   "metadata": {},
   "outputs": [
    {
     "data": {
      "text/html": [
       "<div>\n",
       "<style scoped>\n",
       "    .dataframe tbody tr th:only-of-type {\n",
       "        vertical-align: middle;\n",
       "    }\n",
       "\n",
       "    .dataframe tbody tr th {\n",
       "        vertical-align: top;\n",
       "    }\n",
       "\n",
       "    .dataframe thead th {\n",
       "        text-align: right;\n",
       "    }\n",
       "</style>\n",
       "<table border=\"1\" class=\"dataframe\">\n",
       "  <thead>\n",
       "    <tr style=\"text-align: right;\">\n",
       "      <th></th>\n",
       "      <th>title</th>\n",
       "      <th>company</th>\n",
       "      <th>location</th>\n",
       "      <th>salary</th>\n",
       "      <th>description</th>\n",
       "      <th>experience</th>\n",
       "      <th>employment_type</th>\n",
       "      <th>schedule</th>\n",
       "      <th>working_hours</th>\n",
       "      <th>work_format</th>\n",
       "      <th>published_date</th>\n",
       "      <th>link</th>\n",
       "      <th>skills</th>\n",
       "    </tr>\n",
       "  </thead>\n",
       "  <tbody>\n",
       "    <tr>\n",
       "      <th>0</th>\n",
       "      <td>Junior Data Scientist</td>\n",
       "      <td>РГП на ПХВ Информационно- вычислительный центр...</td>\n",
       "      <td>Астана, улица Амангельды Иманова, 13</td>\n",
       "      <td>до 400 000 ₸ за месяц, на руки</td>\n",
       "      <td>Обязанности:\\nподключение к разным источникам ...</td>\n",
       "      <td>1–3 года</td>\n",
       "      <td>Полная занятость</td>\n",
       "      <td>График: 5/2</td>\n",
       "      <td>Рабочие часы: 8</td>\n",
       "      <td>Формат работы: на месте работодателя</td>\n",
       "      <td>21 апреля 2025</td>\n",
       "      <td>https://almaty.hh.kz/vacancy/119753010?query=D...</td>\n",
       "      <td>Не указано</td>\n",
       "    </tr>\n",
       "    <tr>\n",
       "      <th>1</th>\n",
       "      <td>Data Engineer (Middle+)</td>\n",
       "      <td>ТОО МФО Деньги говорят</td>\n",
       "      <td>Алматы, Бауыржан Момышулы, Сары-Арка, Наурызба...</td>\n",
       "      <td>от 500 000 до 800 000 ₸ за месяц, на руки</td>\n",
       "      <td>Мы — ProDengi Group\\n\\nФинтех-экосистема, объе...</td>\n",
       "      <td>3–6 лет</td>\n",
       "      <td>Полная занятость</td>\n",
       "      <td>График: 5/2</td>\n",
       "      <td>Рабочие часы: 8</td>\n",
       "      <td>Формат работы: гибрид</td>\n",
       "      <td>21 апреля 2025</td>\n",
       "      <td>https://almaty.hh.kz/vacancy/119545792?query=D...</td>\n",
       "      <td>SQL,Apache Kafka,Spark,PostgreSQL,Python,API,B...</td>\n",
       "    </tr>\n",
       "    <tr>\n",
       "      <th>2</th>\n",
       "      <td>Data Engineer</td>\n",
       "      <td>ТОО IBA Astana Dev (АйБиЭй Астана Дев)</td>\n",
       "      <td>Астана, улица Динмухамеда Кунаева, 2</td>\n",
       "      <td>Не указано</td>\n",
       "      <td>We are looking for an experienced and highly s...</td>\n",
       "      <td>более 6 лет</td>\n",
       "      <td>Полная занятость</td>\n",
       "      <td>График: 5/2</td>\n",
       "      <td>Рабочие часы: 8</td>\n",
       "      <td>Формат работы: на месте работодателя или удалённо</td>\n",
       "      <td>21 апреля 2025</td>\n",
       "      <td>https://almaty.hh.kz/vacancy/119775377?query=D...</td>\n",
       "      <td>Не указано</td>\n",
       "    </tr>\n",
       "    <tr>\n",
       "      <th>3</th>\n",
       "      <td>Data Scientist (Middle, Senior)</td>\n",
       "      <td>HALYK FINANCE, дочерняя организация АО Народны...</td>\n",
       "      <td>Алматы, Алатау, проспект Абая, 109В</td>\n",
       "      <td>Не указано</td>\n",
       "      <td>Просим не откликаться на вакансию граждан друг...</td>\n",
       "      <td>3–6 лет</td>\n",
       "      <td>Полная занятость</td>\n",
       "      <td>График: 5/2</td>\n",
       "      <td>Рабочие часы: 8</td>\n",
       "      <td>Формат работы: на месте работодателя</td>\n",
       "      <td>18 апреля 2025</td>\n",
       "      <td>https://almaty.hh.kz/vacancy/118882857?query=D...</td>\n",
       "      <td>SQL,Python,MySQL,Qlik Sense,Математический ана...</td>\n",
       "    </tr>\n",
       "    <tr>\n",
       "      <th>4</th>\n",
       "      <td>Data Scientist ML (Ментор)</td>\n",
       "      <td>ТОО itcbootcamp ( айтисибууткэмп)</td>\n",
       "      <td>Алматы, проспект Сакена Сейфуллина, 458/1</td>\n",
       "      <td>от 200 000 до 300 000 ₸ за месяц, на руки</td>\n",
       "      <td>Обязанности:\\n\\nРазработка и проведение курса ...</td>\n",
       "      <td>3–6 лет</td>\n",
       "      <td>Частичная занятость</td>\n",
       "      <td>График: по выходным</td>\n",
       "      <td>Рабочие часы: 4, 6 или 8</td>\n",
       "      <td>Не указано</td>\n",
       "      <td>28 марта 2025</td>\n",
       "      <td>https://almaty.hh.kz/vacancy/118902160?query=D...</td>\n",
       "      <td>Python,Теория вероятности,Математическая стати...</td>\n",
       "    </tr>\n",
       "  </tbody>\n",
       "</table>\n",
       "</div>"
      ],
      "text/plain": [
       "                             title  \\\n",
       "0            Junior Data Scientist   \n",
       "1          Data Engineer (Middle+)   \n",
       "2                    Data Engineer   \n",
       "3  Data Scientist (Middle, Senior)   \n",
       "4       Data Scientist ML (Ментор)   \n",
       "\n",
       "                                             company  \\\n",
       "0  РГП на ПХВ Информационно- вычислительный центр...   \n",
       "1                             ТОО МФО Деньги говорят   \n",
       "2             ТОО IBA Astana Dev (АйБиЭй Астана Дев)   \n",
       "3  HALYK FINANCE, дочерняя организация АО Народны...   \n",
       "4                  ТОО itcbootcamp ( айтисибууткэмп)   \n",
       "\n",
       "                                            location  \\\n",
       "0               Астана, улица Амангельды Иманова, 13   \n",
       "1  Алматы, Бауыржан Момышулы, Сары-Арка, Наурызба...   \n",
       "2               Астана, улица Динмухамеда Кунаева, 2   \n",
       "3                Алматы, Алатау, проспект Абая, 109В   \n",
       "4          Алматы, проспект Сакена Сейфуллина, 458/1   \n",
       "\n",
       "                                      salary  \\\n",
       "0             до 400 000 ₸ за месяц, на руки   \n",
       "1  от 500 000 до 800 000 ₸ за месяц, на руки   \n",
       "2                                 Не указано   \n",
       "3                                 Не указано   \n",
       "4  от 200 000 до 300 000 ₸ за месяц, на руки   \n",
       "\n",
       "                                         description   experience  \\\n",
       "0  Обязанности:\\nподключение к разным источникам ...     1–3 года   \n",
       "1  Мы — ProDengi Group\\n\\nФинтех-экосистема, объе...      3–6 лет   \n",
       "2  We are looking for an experienced and highly s...  более 6 лет   \n",
       "3  Просим не откликаться на вакансию граждан друг...      3–6 лет   \n",
       "4  Обязанности:\\n\\nРазработка и проведение курса ...      3–6 лет   \n",
       "\n",
       "       employment_type             schedule             working_hours  \\\n",
       "0     Полная занятость          График: 5/2           Рабочие часы: 8   \n",
       "1     Полная занятость          График: 5/2           Рабочие часы: 8   \n",
       "2     Полная занятость          График: 5/2           Рабочие часы: 8   \n",
       "3     Полная занятость          График: 5/2           Рабочие часы: 8   \n",
       "4  Частичная занятость  График: по выходным  Рабочие часы: 4, 6 или 8   \n",
       "\n",
       "                                         work_format  published_date  \\\n",
       "0               Формат работы: на месте работодателя  21 апреля 2025   \n",
       "1                              Формат работы: гибрид  21 апреля 2025   \n",
       "2  Формат работы: на месте работодателя или удалённо  21 апреля 2025   \n",
       "3               Формат работы: на месте работодателя  18 апреля 2025   \n",
       "4                                         Не указано   28 марта 2025   \n",
       "\n",
       "                                                link  \\\n",
       "0  https://almaty.hh.kz/vacancy/119753010?query=D...   \n",
       "1  https://almaty.hh.kz/vacancy/119545792?query=D...   \n",
       "2  https://almaty.hh.kz/vacancy/119775377?query=D...   \n",
       "3  https://almaty.hh.kz/vacancy/118882857?query=D...   \n",
       "4  https://almaty.hh.kz/vacancy/118902160?query=D...   \n",
       "\n",
       "                                              skills  \n",
       "0                                         Не указано  \n",
       "1  SQL,Apache Kafka,Spark,PostgreSQL,Python,API,B...  \n",
       "2                                         Не указано  \n",
       "3  SQL,Python,MySQL,Qlik Sense,Математический ана...  \n",
       "4  Python,Теория вероятности,Математическая стати...  "
      ]
     },
     "execution_count": 2,
     "metadata": {},
     "output_type": "execute_result"
    }
   ],
   "source": [
    "df = pd.read_csv('C:/Users/User/hh_data_project/data/raw/vacancies_2025-04-23.csv')\n",
    "df.head()"
   ]
  },
  {
   "cell_type": "code",
   "execution_count": 1,
   "metadata": {},
   "outputs": [
    {
     "ename": "NameError",
     "evalue": "name 'df' is not defined",
     "output_type": "error",
     "traceback": [
      "\u001b[1;31m---------------------------------------------------------------------------\u001b[0m",
      "\u001b[1;31mNameError\u001b[0m                                 Traceback (most recent call last)",
      "Cell \u001b[1;32mIn[1], line 1\u001b[0m\n\u001b[1;32m----> 1\u001b[0m df[\u001b[38;5;124m'\u001b[39m\u001b[38;5;124mtitle\u001b[39m\u001b[38;5;124m'\u001b[39m]\n",
      "\u001b[1;31mNameError\u001b[0m: name 'df' is not defined"
     ]
    }
   ],
   "source": [
    "df['title']"
   ]
  },
  {
   "cell_type": "code",
   "execution_count": 5,
   "metadata": {},
   "outputs": [],
   "source": [
    "from src.llm_summary import summarize_description_llm\n"
   ]
  },
  {
   "cell_type": "code",
   "execution_count": 6,
   "metadata": {},
   "outputs": [
    {
     "data": {
      "text/plain": [
       "{'about_company': 'Не указано',\n",
       " 'responsibilities': 'Не указано',\n",
       " 'requirements': 'Не указано'}"
      ]
     },
     "execution_count": 6,
     "metadata": {},
     "output_type": "execute_result"
    }
   ],
   "source": [
    "# Берём первое описание\n",
    "sample_description = df.iloc[1][\"description\"]\n",
    "\n",
    "# Вызываем Gemini API\n",
    "summary = summarize_description_llm(sample_description)\n",
    "\n",
    "# Показываем результат\n",
    "summary\n"
   ]
  },
  {
   "cell_type": "code",
   "execution_count": 7,
   "metadata": {},
   "outputs": [
    {
     "data": {
      "text/plain": [
       "'Обязанности:\\nподключение к разным источникам данных, их очистка и подготовка для аналитики и моделей;\\nразработка AI-чат-ботов;\\nанализ данных с использованием Python (Pandas, NumPy) и визуализация в BI-инструментах\\nисследование данных (EDA), поиск закономерностей и трендов;\\nформирование требований, подготовка технических заданий (ТЗ), контроль качества реализации;\\nсоздание аналитических отчетов, презентаций и справок для стейкхолдеров;\\nпрезентация результатов и защита проектов;\\nвзаимодействие с заказчиками, пользователями различными экспертами в проф.области;\\nзнание FastAPI будет плюсом.\\nТребования:\\nвысшее образование;\\nопыт работы в аналитике (от 1 года);\\nглубокое понимание статистики и эконометрики;\\nвладение Python и SQL;\\nопыт работы с базами данных и системами управления данными;\\nреализованные проекты по созданию AI-чат-ботов;\\nвладение английским для работы с международными партнерами;\\nзнание Qlik Sense, Apache Superset и ClickHouse будет плюсом.\\n\\nУсловия:\\n\\nофициальное оформление по ТК РК;\\nвозможность повышения заработной платы после прохождения испытательного срока;\\nвозможность получения аванса;\\nвыплата лечебного пособия к отпуску;\\nвыплата материальной помощи по знаменательным событиям;\\nвыплата премии по гос. праздникам, итогам года;\\nдоступ к современным инструментам и технологиям для работы с данными;\\nинтересные задачи и уникальные данные национального дата-хаба.'"
      ]
     },
     "execution_count": 7,
     "metadata": {},
     "output_type": "execute_result"
    }
   ],
   "source": [
    "df['description'][0]"
   ]
  },
  {
   "cell_type": "code",
   "execution_count": 8,
   "metadata": {},
   "outputs": [
    {
     "data": {
      "text/plain": [
       "{'about_company': 'Не указано',\n",
       " 'responsibilities': 'Не указано',\n",
       " 'requirements': 'Не указано'}"
      ]
     },
     "execution_count": 8,
     "metadata": {},
     "output_type": "execute_result"
    }
   ],
   "source": [
    "description = \"\"\"\n",
    "Мы — команда аналитиков в крупной IT-компании.\n",
    "Обязанности: работа с SQL, построение отчётности, автоматизация процессов.\n",
    "Требования: опыт в Data Science, знание Python, уверенное владение pandas.\n",
    "\"\"\"\n",
    "summarize_description_llm(description)\n"
   ]
  },
  {
   "cell_type": "code",
   "execution_count": 9,
   "metadata": {},
   "outputs": [
    {
     "name": "stdout",
     "output_type": "stream",
     "text": [
      "[DEBUG] Raw shape: (32, 13)\n",
      "[DEBUG] Columns: ['title', 'company', 'location', 'salary', 'description', 'experience', 'employment_type', 'schedule', 'working_hours', 'work_format', 'link', 'published_date', 'skills']\n",
      "[DEBUG] After description filter: (32, 13)\n",
      "[DEBUG] Final shape: (32, 18)\n",
      "                                                title  ... requirements\n",
      "0                               Junior Data Scientist  ...   Не указано\n",
      "1                     Data Scientist (Middle, Senior)  ...   Не указано\n",
      "2                     Data Scientist (Middle, Senior)  ...   Не указано\n",
      "3                Data Scientist / Разработчик AI-бота  ...   Не указано\n",
      "4                                      Data Scientist  ...   Не указано\n",
      "5                                       Data Engineer  ...   Не указано\n",
      "6                                      Data Scientist  ...   Не указано\n",
      "7                          Data Scientist ML (Ментор)  ...   Не указано\n",
      "8                             Data Engineer (Middle+)  ...   Не указано\n",
      "9                                        Data Analyst  ...   Не указано\n",
      "10                              Python ML/AI Engineer  ...   Не указано\n",
      "11                              Senior Data Scientist  ...   Не указано\n",
      "12                      Data Scientist Middle+/Senior  ...   Не указано\n",
      "13                      Data Scientist Middle+/Senior  ...   Не указано\n",
      "14                                 AI Data Group Lead  ...   Не указано\n",
      "15                                 AI Data Group Lead  ...   Не указано\n",
      "16                           MLOps AWS/Data Scientist  ...   Не указано\n",
      "17                              Senior Data Scientist  ...   Не указано\n",
      "18                                     Data Scientist  ...   Не указано\n",
      "19  Data Scientist Дирекции моделирования кредитны...  ...   Не указано\n",
      "20  Data Scientist по направлению Антифрод/anti-fraud  ...   Не указано\n",
      "21                                     Data Scientist  ...   Не указано\n",
      "22           Senior Data Software Engineer (Big Data)  ...   Не указано\n",
      "23           Senior Data Software Engineer (Big Data)  ...   Не указано\n",
      "24                              Middle Data Scientist  ...   Не указано\n",
      "25      Data Scientist в Департамент кредитных рисков  ...   Не указано\n",
      "26           Senior Data Software Engineer (Big Data)  ...   Не указано\n",
      "27           Senior Data Software Engineer (Big Data)  ...   Не указано\n",
      "28                                     Data Scientist  ...   Не указано\n",
      "29                                     Data scientist  ...   Не указано\n",
      "30                        Junior Data Scientist (NLP)  ...   Не указано\n",
      "31                              Middle Data Scientist  ...   Не указано\n",
      "\n",
      "[32 rows x 18 columns]\n"
     ]
    }
   ],
   "source": [
    "from src.cleaning import run_cleaning_pipeline\n",
    "print(run_cleaning_pipeline(df))"
   ]
  },
  {
   "cell_type": "code",
   "execution_count": 10,
   "metadata": {},
   "outputs": [
    {
     "name": "stdout",
     "output_type": "stream",
     "text": [
      "🧪 Релевантна ли вакансия?\n"
     ]
    },
    {
     "name": "stderr",
     "output_type": "stream",
     "text": [
      "2025-04-22 23:49:06,649 - INFO - [LLM‑Filter] Ответ: yes\n"
     ]
    },
    {
     "name": "stdout",
     "output_type": "stream",
     "text": [
      "True\n",
      "\n",
      "📋 Сгенерированное саммари:\n"
     ]
    },
    {
     "name": "stderr",
     "output_type": "stream",
     "text": [
      "2025-04-22 23:49:07,748 - INFO - [LLM‑Summary] Сырые данные:\n",
      "```json\n",
      "{\n",
      "  \"about_company\": \"Не указано\",\n",
      "  \"responsibilities\": \"Необходимо работать с ML-моделями, обрабатывать большие объёмы данных, участвовать в A/B тестах и строить дашборды.\",\n",
      "  \"requirements\": \"Не указано\"\n",
      "}\n",
      "```\n"
     ]
    },
    {
     "name": "stdout",
     "output_type": "stream",
     "text": [
      "about_company: Не указано\n",
      "responsibilities: Не указано\n",
      "requirements: Не указано\n"
     ]
    }
   ],
   "source": [
    "import os\n",
    "import requests\n",
    "import json\n",
    "import logging\n",
    "from dotenv import load_dotenv\n",
    "load_dotenv()\n",
    "\n",
    "# 🔧 Установим логгер\n",
    "logging.basicConfig(\n",
    "    format=\"%(asctime)s - %(levelname)s - %(message)s\",\n",
    "    level=logging.INFO\n",
    ")\n",
    "\n",
    "# ✅ Конфигурация\n",
    "GEMINI_API_KEY = os.getenv(\"GEM_API_TOKEN\")\n",
    "GEMINI_API_URL = \"https://generativelanguage.googleapis.com/v1beta/models/gemini-2.0-flash:generateContent\"\n",
    "HEADERS = {\"Content-Type\": \"application/json\"}\n",
    "\n",
    "# ✅ Универсальный вызов Gemini\n",
    "def gemini_api_call(prompt: str, timeout: int = 30) -> str:\n",
    "    try:\n",
    "        response = requests.post(\n",
    "            f\"{GEMINI_API_URL}?key={GEMINI_API_KEY}\",\n",
    "            headers=HEADERS,\n",
    "            json={\"contents\": [{\"parts\": [{\"text\": prompt}]}]},\n",
    "            timeout=timeout,\n",
    "        )\n",
    "        response.raise_for_status()\n",
    "        return response.json()[\"candidates\"][0][\"content\"][\"parts\"][0][\"text\"]\n",
    "    except Exception as e:\n",
    "        logging.warning(f\"[Gemini API] Ошибка запроса: {e}\")\n",
    "        return \"\"\n",
    "\n",
    "# ✅ Промпт для фильтрации\n",
    "FILTER_PROMPT_TEMPLATE = \"\"\"\n",
    "Ты ассистент, который определяет релевантность вакансии по описанию и названию.\n",
    "\n",
    "Профессия считается релевантной, если она относится к одной из следующих областей:\n",
    "- Data Science\n",
    "- Machine Learning\n",
    "- Artificial Intelligence (AI)\n",
    "- Анализ данных (Data Analytics)\n",
    "- Business Intelligence (BI)\n",
    "- DevOps\n",
    "\n",
    "❗ Не учитывай вакансии из других сфер, даже если в тексте встречаются слова вроде “data” или “модель”.\n",
    "\n",
    "Профессия: \"{title}\"\n",
    "Описание: \"{description}\"\n",
    "\n",
    "Ответь строго одним словом: yes или no.\n",
    "\"\"\"\n",
    "\n",
    "def filter_vacancy_llm(title: str, description: str) -> bool:\n",
    "    prompt = FILTER_PROMPT_TEMPLATE.format(title=title, description=description)\n",
    "    try:\n",
    "        response = gemini_api_call(prompt)\n",
    "        logging.info(f\"[LLM‑Filter] Ответ: {response.strip()}\")\n",
    "        return response.strip().lower() == \"yes\"\n",
    "    except Exception as e:\n",
    "        logging.warning(f\"[LLM‑фильтр] Ошибка фильтрации: {e}\")\n",
    "        return False\n",
    "\n",
    "# ✅ Промпт для саммари\n",
    "SUMMARY_PROMPT_TEMPLATE = \"\"\"\n",
    "Разбей текст описания вакансии на три блока:\n",
    "1. О компании\n",
    "2. Обязанности\n",
    "3. Требования\n",
    "\n",
    "Если блока нет — напиши \"Не указано\".\n",
    "Верни ЧИСТЫЙ JSON с ключами: about_company, responsibilities, requirements.\n",
    "\n",
    "Описание:\n",
    "{description}\n",
    "\"\"\"\n",
    "\n",
    "def summarize_description_llm(description: str) -> dict:\n",
    "    prompt = SUMMARY_PROMPT_TEMPLATE.format(description=description)\n",
    "    try:\n",
    "        raw = gemini_api_call(prompt).strip()\n",
    "        logging.info(f\"[LLM‑Summary] Сырые данные:\\n{raw}\")\n",
    "        data = json.loads(raw) if raw.startswith(\"{\") else {}\n",
    "    except Exception as e:\n",
    "        logging.warning(f\"[LLM‑summary] Ошибка парсинга JSON: {e}\")\n",
    "        data = {}\n",
    "\n",
    "    return {\n",
    "        \"about_company\": data.get(\"about_company\", \"Не указано\"),\n",
    "        \"responsibilities\": data.get(\"responsibilities\", \"Не указано\"),\n",
    "        \"requirements\": data.get(\"requirements\", \"Не указано\"),\n",
    "    }\n",
    "\n",
    "# ✅ Тест\n",
    "title = \"Data Scientist\"\n",
    "description = \"\"\"\n",
    "В компании открыта вакансия для Data Scientist. Необходимо работать с ML-моделями, \n",
    "обрабатывать большие объёмы данных, участвовать в A/B тестах и строить дашборды.\n",
    "\"\"\"\n",
    "\n",
    "print(\"🧪 Релевантна ли вакансия?\")\n",
    "print(filter_vacancy_llm(title, description))\n",
    "\n",
    "print(\"\\n📋 Сгенерированное саммари:\")\n",
    "summary = summarize_description_llm(description)\n",
    "for k, v in summary.items():\n",
    "    print(f\"{k}: {v}\")\n"
   ]
  },
  {
   "cell_type": "code",
   "execution_count": null,
   "metadata": {},
   "outputs": [],
   "source": []
  }
 ],
 "metadata": {
  "kernelspec": {
   "display_name": "base",
   "language": "python",
   "name": "python3"
  },
  "language_info": {
   "codemirror_mode": {
    "name": "ipython",
    "version": 3
   },
   "file_extension": ".py",
   "mimetype": "text/x-python",
   "name": "python",
   "nbconvert_exporter": "python",
   "pygments_lexer": "ipython3",
   "version": "3.11.7"
  }
 },
 "nbformat": 4,
 "nbformat_minor": 2
}
