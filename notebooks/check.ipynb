{
 "cells": [
  {
   "cell_type": "code",
   "execution_count": 5,
   "metadata": {},
   "outputs": [],
   "source": [
    "import pandas as pd"
   ]
  },
  {
   "cell_type": "code",
   "execution_count": 6,
   "metadata": {},
   "outputs": [
    {
     "data": {
      "text/html": [
       "<div>\n",
       "<style scoped>\n",
       "    .dataframe tbody tr th:only-of-type {\n",
       "        vertical-align: middle;\n",
       "    }\n",
       "\n",
       "    .dataframe tbody tr th {\n",
       "        vertical-align: top;\n",
       "    }\n",
       "\n",
       "    .dataframe thead th {\n",
       "        text-align: right;\n",
       "    }\n",
       "</style>\n",
       "<table border=\"1\" class=\"dataframe\">\n",
       "  <thead>\n",
       "    <tr style=\"text-align: right;\">\n",
       "      <th></th>\n",
       "      <th>title</th>\n",
       "      <th>company</th>\n",
       "      <th>location</th>\n",
       "      <th>salary</th>\n",
       "      <th>description</th>\n",
       "      <th>experience</th>\n",
       "      <th>employment_type</th>\n",
       "      <th>schedule</th>\n",
       "      <th>working_hours</th>\n",
       "      <th>work_format</th>\n",
       "      <th>link</th>\n",
       "      <th>published_date</th>\n",
       "      <th>skills</th>\n",
       "      <th>published_date_dt</th>\n",
       "    </tr>\n",
       "  </thead>\n",
       "  <tbody>\n",
       "    <tr>\n",
       "      <th>0</th>\n",
       "      <td>Data Analyst</td>\n",
       "      <td>ТОО Autodoc Group (Автодок Казахстан)</td>\n",
       "      <td>Алматы, улица Султанбека Ходжанова, 2/2</td>\n",
       "      <td>Не указано</td>\n",
       "      <td>AUTODOC is the largest and fastest growing aut...</td>\n",
       "      <td>3–6 лет</td>\n",
       "      <td>Полная занятость</td>\n",
       "      <td>График: 5/2</td>\n",
       "      <td>Рабочие часы: 8</td>\n",
       "      <td>Формат работы: гибрид</td>\n",
       "      <td>https://almaty.hh.kz/vacancy/116520776?query=D...</td>\n",
       "      <td>16 апреля 2025</td>\n",
       "      <td>Не указано</td>\n",
       "      <td>2025-04-16</td>\n",
       "    </tr>\n",
       "    <tr>\n",
       "      <th>1</th>\n",
       "      <td>Middle Data Scientist</td>\n",
       "      <td>ТОО Мобайл Телеком-Сервис (Объединенная Компан...</td>\n",
       "      <td>Не указано</td>\n",
       "      <td>Не указано</td>\n",
       "      <td>Мы ищем опытного специалиста по анализу данных...</td>\n",
       "      <td>3–6 лет</td>\n",
       "      <td>Полная занятость</td>\n",
       "      <td>График: 5/2</td>\n",
       "      <td>Рабочие часы: 8</td>\n",
       "      <td>Не указано</td>\n",
       "      <td>https://almaty.hh.kz/vacancy/119586627?query=D...</td>\n",
       "      <td>16 апреля 2025</td>\n",
       "      <td>Не указано</td>\n",
       "      <td>2025-04-16</td>\n",
       "    </tr>\n",
       "    <tr>\n",
       "      <th>2</th>\n",
       "      <td>Data scientist</td>\n",
       "      <td>АО Страховая компания Freedom Insurance</td>\n",
       "      <td>Не указано</td>\n",
       "      <td>Не указано</td>\n",
       "      <td>Пройдемся по основным задачам:\\n\\nСбор, обрабо...</td>\n",
       "      <td>3–6 лет</td>\n",
       "      <td>Полная занятость</td>\n",
       "      <td>График: 5/2</td>\n",
       "      <td>Рабочие часы: 8</td>\n",
       "      <td>Не указано</td>\n",
       "      <td>https://almaty.hh.kz/vacancy/119593278?query=D...</td>\n",
       "      <td>16 апреля 2025</td>\n",
       "      <td>Не указано</td>\n",
       "      <td>2025-04-16</td>\n",
       "    </tr>\n",
       "  </tbody>\n",
       "</table>\n",
       "</div>"
      ],
      "text/plain": [
       "                   title                                            company  \\\n",
       "0           Data Analyst              ТОО Autodoc Group (Автодок Казахстан)   \n",
       "1  Middle Data Scientist  ТОО Мобайл Телеком-Сервис (Объединенная Компан...   \n",
       "2         Data scientist            АО Страховая компания Freedom Insurance   \n",
       "\n",
       "                                  location      salary  \\\n",
       "0  Алматы, улица Султанбека Ходжанова, 2/2  Не указано   \n",
       "1                               Не указано  Не указано   \n",
       "2                               Не указано  Не указано   \n",
       "\n",
       "                                         description experience  \\\n",
       "0  AUTODOC is the largest and fastest growing aut...    3–6 лет   \n",
       "1  Мы ищем опытного специалиста по анализу данных...    3–6 лет   \n",
       "2  Пройдемся по основным задачам:\\n\\nСбор, обрабо...    3–6 лет   \n",
       "\n",
       "    employment_type     schedule    working_hours            work_format  \\\n",
       "0  Полная занятость  График: 5/2  Рабочие часы: 8  Формат работы: гибрид   \n",
       "1  Полная занятость  График: 5/2  Рабочие часы: 8             Не указано   \n",
       "2  Полная занятость  График: 5/2  Рабочие часы: 8             Не указано   \n",
       "\n",
       "                                                link  published_date  \\\n",
       "0  https://almaty.hh.kz/vacancy/116520776?query=D...  16 апреля 2025   \n",
       "1  https://almaty.hh.kz/vacancy/119586627?query=D...  16 апреля 2025   \n",
       "2  https://almaty.hh.kz/vacancy/119593278?query=D...  16 апреля 2025   \n",
       "\n",
       "       skills published_date_dt  \n",
       "0  Не указано        2025-04-16  \n",
       "1  Не указано        2025-04-16  \n",
       "2  Не указано        2025-04-16  "
      ]
     },
     "execution_count": 6,
     "metadata": {},
     "output_type": "execute_result"
    }
   ],
   "source": [
    "df = pd.read_csv('C:/Users/User/hh_data_project/data/processed/vacancies_clean_2025-04-18.csv')\n",
    "df.head()"
   ]
  },
  {
   "cell_type": "code",
   "execution_count": 7,
   "metadata": {},
   "outputs": [
    {
     "data": {
      "text/plain": [
       "title                0\n",
       "company              0\n",
       "location             0\n",
       "salary               0\n",
       "description          0\n",
       "experience           0\n",
       "employment_type      0\n",
       "schedule             0\n",
       "working_hours        0\n",
       "work_format          0\n",
       "link                 0\n",
       "published_date       0\n",
       "skills               0\n",
       "published_date_dt    0\n",
       "dtype: int64"
      ]
     },
     "execution_count": 7,
     "metadata": {},
     "output_type": "execute_result"
    }
   ],
   "source": [
    "df.isnull().sum()"
   ]
  },
  {
   "cell_type": "code",
   "execution_count": 8,
   "metadata": {},
   "outputs": [
    {
     "data": {
      "text/plain": [
       "skills\n",
       "Не указано    3\n",
       "Name: count, dtype: int64"
      ]
     },
     "execution_count": 8,
     "metadata": {},
     "output_type": "execute_result"
    }
   ],
   "source": [
    "df['skills'].value_counts().sort_values(ascending=False).head(20)"
   ]
  },
  {
   "cell_type": "code",
   "execution_count": null,
   "metadata": {},
   "outputs": [],
   "source": []
  }
 ],
 "metadata": {
  "kernelspec": {
   "display_name": "base",
   "language": "python",
   "name": "python3"
  },
  "language_info": {
   "codemirror_mode": {
    "name": "ipython",
    "version": 3
   },
   "file_extension": ".py",
   "mimetype": "text/x-python",
   "name": "python",
   "nbconvert_exporter": "python",
   "pygments_lexer": "ipython3",
   "version": "3.11.7"
  }
 },
 "nbformat": 4,
 "nbformat_minor": 2
}
